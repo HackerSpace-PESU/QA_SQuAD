{
 "cells": [
  {
   "cell_type": "code",
   "execution_count": 1,
   "metadata": {
    "colab": {
     "base_uri": "https://localhost:8080/",
     "height": 85
    },
    "colab_type": "code",
    "id": "xjD6gSbfIIZU",
    "outputId": "3f05d556-09e7-4654-fe89-e1824c081c11"
   },
   "outputs": [
    {
     "name": "stderr",
     "output_type": "stream",
     "text": [
      "[nltk_data] Downloading package stopwords to\n",
      "[nltk_data]     C:\\Users\\hp\\AppData\\Roaming\\nltk_data...\n",
      "[nltk_data]   Package stopwords is already up-to-date!\n",
      "[nltk_data] Downloading package punkt to\n",
      "[nltk_data]     C:\\Users\\hp\\AppData\\Roaming\\nltk_data...\n",
      "[nltk_data]   Package punkt is already up-to-date!\n"
     ]
    }
   ],
   "source": [
    "import pandas as pd\n",
    "import nltk\n",
    "nltk.download('stopwords')\n",
    "nltk.download('punkt')\n",
    "from TextPreprocessing import clean\n",
    "import numpy as np\n",
    "from nltk import sent_tokenize\n",
    "import gensim\n",
    "from sklearn.metrics.pairwise import cosine_similarity\n",
    "from gensim.test.utils import get_tmpfile\n",
    "from gensim.models.doc2vec import Doc2Vec, TaggedDocument"
   ]
  },
  {
   "cell_type": "code",
   "execution_count": 2,
   "metadata": {
    "colab": {},
    "colab_type": "code",
    "id": "fx81ykqunOgb"
   },
   "outputs": [],
   "source": [
    "model = Doc2Vec(vector_size=150, min_count=2, epochs=100)\n",
    "model=Doc2Vec.load(\"Doc2Vec_SQuAD1.model\")"
   ]
  },
  {
   "cell_type": "code",
   "execution_count": 23,
   "metadata": {
    "colab": {},
    "colab_type": "code",
    "id": "AFjI1U6AIIZu"
   },
   "outputs": [],
   "source": [
    "def check(sentences):\n",
    "    new_list=[]\n",
    "    f=1\n",
    "    while f==1:\n",
    "        f=0\n",
    "        for i in range(len(sentences)-1):\n",
    "          #print(i)\n",
    "            if len(sentences[i])==1:\n",
    "                sentences[i-1]=sentences[i-1]+\" \" +sentences[i]\n",
    "                sentences.pop(i)\n",
    "                break;\n",
    "            if (sentences[i].endswith('Op.') or sentences[i].endswith('No.') or sentences[i].endswith(\"!\") or sentences[i].endswith(\".)\") or sentences[i].endswith(\"no.\") or (65<=ord((sentences[i])[-2])<=90)) or sentences[i].endswith(\"Fr.\") or sentences[i].endswith(\"Capt.\")or sentences[i].endswith(\"Rev.\")or sentences[i].endswith(\"est.\")or sentences[i].endswith(\"app.\")or sentences[i].endswith(\"Lt.\")or sentences[i].endswith(\"Msgr.\") or sentences[i].endswith(\"i.e.\") or sentences[i].endswith(\"Ss.\") or sentences[i].endswith(\"St.\") or sentences[i].endswith(\"Sch.\") or sentences[i].endswith(\"e.g.\") or sentences[i].endswith(\"Mr.\") or sentences[i].endswith(\"Mt.\") or sentences[i].endswith(\"Ecl.\") or sentences[i].endswith(\"Rs.\") or sentences[i].endswith(\"9.\"):\n",
    "                sentences[i]=sentences[i]+\" \" +sentences[i+1]\n",
    "                sentences.pop(i+1)\n",
    "                f=1\n",
    "                break;\n",
    "            if sentences[i].endswith(\"?\"):\n",
    "                sentences[i]=sentences[i]+sentences[i+1]\n",
    "                sentences.pop(i+1)\n",
    "                break;   \n",
    "    return sentences"
   ]
  },
  {
   "cell_type": "code",
   "execution_count": 50,
   "metadata": {
    "colab": {},
    "colab_type": "code",
    "id": "z3b6CB-i1lGj"
   },
   "outputs": [
    {
     "data": {
      "text/plain": [
       "''"
      ]
     },
     "execution_count": 50,
     "metadata": {},
     "output_type": "execute_result"
    }
   ],
   "source": [
    "import tkinter\n",
    "window=tkinter.Tk()\n",
    "window.title(\"Question-Answering\")"
   ]
  },
  {
   "cell_type": "code",
   "execution_count": 51,
   "metadata": {
    "colab": {},
    "colab_type": "code",
    "id": "glnsjcjc1lGs"
   },
   "outputs": [],
   "source": [
    "l1=tkinter.Label(window,text=\"Enter Context\",font=(\"Arial Bold\",15))\n",
    "l1.grid(column=0,row=0)\n",
    "c=tkinter.Text(window,height=15,width=75)\n",
    "c.grid(column=0,row=1)\n",
    "l2=tkinter.Label(window,text=\"Enter Question\",font=(\"Arial Bold\",15))\n",
    "l2.grid(column=0,row=2)\n",
    "q=tkinter.Entry(window,width=50)\n",
    "q.grid(column=0,row=3)\n",
    "index=tkinter.Label(window,text=\" \")\n",
    "index.grid(column=0,row=5)\n",
    "final_ans=tkinter.Label(window,text=\" \")\n",
    "final_ans.grid(column=0,row=6)\n",
    "#test=tkinter.Label(window,text=\"test\")\n",
    "#test.grid(column=0,row=7)"
   ]
  },
  {
   "cell_type": "code",
   "execution_count": 52,
   "metadata": {
    "colab": {},
    "colab_type": "code",
    "id": "vVFmhT_W1lGy"
   },
   "outputs": [],
   "source": [
    "question=q.get()\n",
    "context=c.get(\"1.0\",\"end-1c\")"
   ]
  },
  {
   "cell_type": "code",
   "execution_count": 53,
   "metadata": {
    "colab": {},
    "colab_type": "code",
    "id": "AERkCmpT1lG3"
   },
   "outputs": [],
   "source": [
    "def on_click(context,question):\n",
    "  #add or replace with the get answer function\n",
    "  #pass text = found index in \"index\" label and answer sentence in final_ans \n",
    "    question=q.get()\n",
    "    context=c.get(\"1.0\",\"end-1c\")\n",
    "    sim=[]\n",
    "    sent=check(sent_tokenize(context))\n",
    "    vect1=model.infer_vector([question])\n",
    "    ind=0\n",
    "    for s in sent:\n",
    "        sim_index=[]\n",
    "        vect2=model.infer_vector([s])\n",
    "        sim_index.append(float(cosine_similarity(vect1.reshape(1,-1),vect2.reshape(1,-1))))\n",
    "        sim_index.append(ind)\n",
    "        ind+=1\n",
    "        sim.append(sim_index)\n",
    "    sim.sort(reverse=True)\n",
    "    index.config(text=sim[0][1])\n",
    "    final_ans.config(text=sent[sim[0][1]])\n",
    "    #test.config(text=\"done\")\n",
    "bt=tkinter.Button(window,text=\"Find Answer\",state=\"normal\",command=lambda:on_click(context,question))\n",
    "bt.grid(column=0,row=4)"
   ]
  },
  {
   "cell_type": "code",
   "execution_count": 54,
   "metadata": {
    "colab": {},
    "colab_type": "code",
    "id": "cwSNiG8z1lG7"
   },
   "outputs": [],
   "source": [
    "window.geometry(\"650x450\")\n",
    "window.mainloop()"
   ]
  },
  {
   "cell_type": "code",
   "execution_count": null,
   "metadata": {},
   "outputs": [],
   "source": []
  }
 ],
 "metadata": {
  "colab": {
   "collapsed_sections": [],
   "name": "GUI modified.ipynb",
   "provenance": []
  },
  "kernelspec": {
   "display_name": "Python 3",
   "language": "python",
   "name": "python3"
  },
  "language_info": {
   "codemirror_mode": {
    "name": "ipython",
    "version": 3
   },
   "file_extension": ".py",
   "mimetype": "text/x-python",
   "name": "python",
   "nbconvert_exporter": "python",
   "pygments_lexer": "ipython3",
   "version": "3.7.6"
  }
 },
 "nbformat": 4,
 "nbformat_minor": 1
}
